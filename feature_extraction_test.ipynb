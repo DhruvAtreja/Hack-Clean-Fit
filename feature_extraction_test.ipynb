{
 "cells": [
  {
   "cell_type": "markdown",
   "metadata": {},
   "source": [
    "# Feature Extraction Test Data"
   ]
  },
  {
   "cell_type": "code",
   "execution_count": 3,
   "metadata": {
    "ExecuteTime": {
     "end_time": "2019-09-28T07:58:08.181613Z",
     "start_time": "2019-09-28T07:58:08.178740Z"
    }
   },
   "outputs": [],
   "source": [
    "import pandas as pd\n",
    "import numpy as np\n",
    "import os"
   ]
  },
  {
   "cell_type": "code",
   "execution_count": 4,
   "metadata": {},
   "outputs": [],
   "source": [
    "%matplotlib inline"
   ]
  },
  {
   "cell_type": "code",
   "execution_count": 5,
   "metadata": {
    "ExecuteTime": {
     "end_time": "2019-09-28T07:58:18.260784Z",
     "start_time": "2019-09-28T07:58:18.251415Z"
    }
   },
   "outputs": [
    {
     "data": {
      "text/plain": [
       "'/Users/daksh_mac/Desktop/SmartCleanCityHackZurich19-master'"
      ]
     },
     "execution_count": 5,
     "metadata": {},
     "output_type": "execute_result"
    }
   ],
   "source": [
    "os.getcwd()"
   ]
  },
  {
   "cell_type": "code",
   "execution_count": 6,
   "metadata": {},
   "outputs": [
    {
     "name": "stdout",
     "output_type": "stream",
     "text": [
      "/Users/daksh_mac/Desktop/SmartCleanCityHackZurich19-master/data\n"
     ]
    }
   ],
   "source": [
    "%cd data"
   ]
  },
  {
   "cell_type": "markdown",
   "metadata": {},
   "source": [
    "## Load the Files"
   ]
  },
  {
   "cell_type": "code",
   "execution_count": 7,
   "metadata": {
    "ExecuteTime": {
     "end_time": "2019-09-28T08:00:12.013828Z",
     "start_time": "2019-09-28T08:00:11.881992Z"
    }
   },
   "outputs": [],
   "source": [
    "pred_msr = pd.read_csv(\"./2019-09-27-basel-measures-prediction-cleaned.csv\", sep=\";\") "
   ]
  },
  {
   "cell_type": "code",
   "execution_count": 8,
   "metadata": {
    "ExecuteTime": {
     "end_time": "2019-09-28T07:59:28.709917Z",
     "start_time": "2019-09-28T07:59:28.679486Z"
    }
   },
   "outputs": [
    {
     "name": "stdout",
     "output_type": "stream",
     "text": [
      "(7292, 3)\n"
     ]
    },
    {
     "data": {
      "text/html": [
       "<div>\n",
       "<style scoped>\n",
       "    .dataframe tbody tr th:only-of-type {\n",
       "        vertical-align: middle;\n",
       "    }\n",
       "\n",
       "    .dataframe tbody tr th {\n",
       "        vertical-align: top;\n",
       "    }\n",
       "\n",
       "    .dataframe thead th {\n",
       "        text-align: right;\n",
       "    }\n",
       "</style>\n",
       "<table border=\"1\" class=\"dataframe\">\n",
       "  <thead>\n",
       "    <tr style=\"text-align: right;\">\n",
       "      <th></th>\n",
       "      <th>osm_id</th>\n",
       "      <th>cci_id</th>\n",
       "      <th>date</th>\n",
       "    </tr>\n",
       "  </thead>\n",
       "  <tbody>\n",
       "    <tr>\n",
       "      <th>0</th>\n",
       "      <td>172611027</td>\n",
       "      <td>86_12812</td>\n",
       "      <td>2019-06-25 6:25:49</td>\n",
       "    </tr>\n",
       "    <tr>\n",
       "      <th>1</th>\n",
       "      <td>3828924874</td>\n",
       "      <td>260</td>\n",
       "      <td>2019-06-25 6:26:22</td>\n",
       "    </tr>\n",
       "    <tr>\n",
       "      <th>2</th>\n",
       "      <td>23913163</td>\n",
       "      <td>86_9255</td>\n",
       "      <td>2019-06-25 6:26:26</td>\n",
       "    </tr>\n",
       "    <tr>\n",
       "      <th>3</th>\n",
       "      <td>23913163</td>\n",
       "      <td>86_17476</td>\n",
       "      <td>2019-06-25 6:26:26</td>\n",
       "    </tr>\n",
       "    <tr>\n",
       "      <th>4</th>\n",
       "      <td>144481239</td>\n",
       "      <td>86_12223</td>\n",
       "      <td>2019-06-25 6:27:21</td>\n",
       "    </tr>\n",
       "  </tbody>\n",
       "</table>\n",
       "</div>"
      ],
      "text/plain": [
       "       osm_id    cci_id                date\n",
       "0   172611027  86_12812  2019-06-25 6:25:49\n",
       "1  3828924874       260  2019-06-25 6:26:22\n",
       "2    23913163   86_9255  2019-06-25 6:26:26\n",
       "3    23913163  86_17476  2019-06-25 6:26:26\n",
       "4   144481239  86_12223  2019-06-25 6:27:21"
      ]
     },
     "execution_count": 8,
     "metadata": {},
     "output_type": "execute_result"
    }
   ],
   "source": [
    "print(pred_msr.shape)\n",
    "pred_msr.head()"
   ]
  },
  {
   "cell_type": "raw",
   "metadata": {},
   "source": [
    "pred_msr = pred_msr.drop('Unnamed: 0', axis=1)\n",
    "\n",
    "pred_msr.to_csv(\"./2019-09-27-basel-measures-prediction-cleaned.csv\", sep=\";\", index=None, header=True)"
   ]
  },
  {
   "cell_type": "code",
   "execution_count": 9,
   "metadata": {},
   "outputs": [],
   "source": [
    "pred_msr_features = pred_msr.copy()"
   ]
  },
  {
   "cell_type": "markdown",
   "metadata": {},
   "source": [
    "## Add features from datetime: hour, day, weekday, month and year"
   ]
  },
  {
   "cell_type": "code",
   "execution_count": 10,
   "metadata": {},
   "outputs": [
    {
     "data": {
      "text/html": [
       "<div>\n",
       "<style scoped>\n",
       "    .dataframe tbody tr th:only-of-type {\n",
       "        vertical-align: middle;\n",
       "    }\n",
       "\n",
       "    .dataframe tbody tr th {\n",
       "        vertical-align: top;\n",
       "    }\n",
       "\n",
       "    .dataframe thead th {\n",
       "        text-align: right;\n",
       "    }\n",
       "</style>\n",
       "<table border=\"1\" class=\"dataframe\">\n",
       "  <thead>\n",
       "    <tr style=\"text-align: right;\">\n",
       "      <th></th>\n",
       "      <th>osm_id</th>\n",
       "      <th>cci_id</th>\n",
       "      <th>date</th>\n",
       "      <th>hour</th>\n",
       "      <th>day</th>\n",
       "      <th>weekday</th>\n",
       "      <th>month</th>\n",
       "      <th>year</th>\n",
       "    </tr>\n",
       "  </thead>\n",
       "  <tbody>\n",
       "    <tr>\n",
       "      <th>0</th>\n",
       "      <td>172611027</td>\n",
       "      <td>86_12812</td>\n",
       "      <td>2019-06-25 6:25:49</td>\n",
       "      <td>6</td>\n",
       "      <td>25</td>\n",
       "      <td>1</td>\n",
       "      <td>6</td>\n",
       "      <td>2019</td>\n",
       "    </tr>\n",
       "    <tr>\n",
       "      <th>1</th>\n",
       "      <td>3828924874</td>\n",
       "      <td>260</td>\n",
       "      <td>2019-06-25 6:26:22</td>\n",
       "      <td>6</td>\n",
       "      <td>25</td>\n",
       "      <td>1</td>\n",
       "      <td>6</td>\n",
       "      <td>2019</td>\n",
       "    </tr>\n",
       "    <tr>\n",
       "      <th>2</th>\n",
       "      <td>23913163</td>\n",
       "      <td>86_9255</td>\n",
       "      <td>2019-06-25 6:26:26</td>\n",
       "      <td>6</td>\n",
       "      <td>25</td>\n",
       "      <td>1</td>\n",
       "      <td>6</td>\n",
       "      <td>2019</td>\n",
       "    </tr>\n",
       "    <tr>\n",
       "      <th>3</th>\n",
       "      <td>23913163</td>\n",
       "      <td>86_17476</td>\n",
       "      <td>2019-06-25 6:26:26</td>\n",
       "      <td>6</td>\n",
       "      <td>25</td>\n",
       "      <td>1</td>\n",
       "      <td>6</td>\n",
       "      <td>2019</td>\n",
       "    </tr>\n",
       "    <tr>\n",
       "      <th>4</th>\n",
       "      <td>144481239</td>\n",
       "      <td>86_12223</td>\n",
       "      <td>2019-06-25 6:27:21</td>\n",
       "      <td>6</td>\n",
       "      <td>25</td>\n",
       "      <td>1</td>\n",
       "      <td>6</td>\n",
       "      <td>2019</td>\n",
       "    </tr>\n",
       "  </tbody>\n",
       "</table>\n",
       "</div>"
      ],
      "text/plain": [
       "       osm_id    cci_id                date  hour  day  weekday  month  year\n",
       "0   172611027  86_12812  2019-06-25 6:25:49     6   25        1      6  2019\n",
       "1  3828924874       260  2019-06-25 6:26:22     6   25        1      6  2019\n",
       "2    23913163   86_9255  2019-06-25 6:26:26     6   25        1      6  2019\n",
       "3    23913163  86_17476  2019-06-25 6:26:26     6   25        1      6  2019\n",
       "4   144481239  86_12223  2019-06-25 6:27:21     6   25        1      6  2019"
      ]
     },
     "execution_count": 10,
     "metadata": {},
     "output_type": "execute_result"
    }
   ],
   "source": [
    "import datetime\n",
    "\n",
    "def get_datefeat(date_str):\n",
    "    a = datetime.datetime.strptime(date_str, '%Y-%m-%d %H:%M:%S')\n",
    "    weekday = a.weekday()\n",
    "    month = a.month\n",
    "    day = a.day\n",
    "    hour = a.hour\n",
    "    year = a.year\n",
    "    \n",
    "    return (hour, day, weekday, month, year)\n",
    "\n",
    "datefeat = pd.DataFrame.from_records(pred_msr_features.date.apply(lambda x: get_datefeat(x)).tolist(), columns=['hour', 'day', 'weekday', 'month', 'year'])\n",
    "\n",
    "pred_msr_features = pred_msr_features.join(datefeat)\n",
    "\n",
    "pred_msr_features.head()"
   ]
  },
  {
   "cell_type": "markdown",
   "metadata": {},
   "source": [
    "### Plot hours when rubbish situation was recorded"
   ]
  },
  {
   "cell_type": "code",
   "execution_count": 11,
   "metadata": {},
   "outputs": [
    {
     "data": {
      "text/plain": [
       "<matplotlib.axes._subplots.AxesSubplot at 0x7fe237817c50>"
      ]
     },
     "execution_count": 11,
     "metadata": {},
     "output_type": "execute_result"
    },
    {
     "data": {
      "image/png": "[encoded data removed]",
      "text/plain": [
       "<Figure size 432x288 with 1 Axes>"
      ]
     },
     "metadata": {
      "needs_background": "light"
     },
     "output_type": "display_data"
    }
   ],
   "source": [
    "b = pd.DataFrame(pred_msr_features.hour.value_counts()).reset_index().sort_values(by='index')\n",
    "\n",
    "b.columns = ['hour', 'count']\n",
    "\n",
    "b.plot(x='hour', y='count')"
   ]
  },
  {
   "cell_type": "markdown",
   "metadata": {},
   "source": [
    "## Possible feature for future websearches (currently not used: German names for months and weekdays)"
   ]
  },
  {
   "cell_type": "code",
   "execution_count": 12,
   "metadata": {},
   "outputs": [],
   "source": [
    "english_months = {1:'January', 2:'February', 3:'March', 4:'April', 5:'May', 6:'June', 7:'July', 8:'August', 9:'September',\n",
    "                10:'October', 11:'November', 12:'December'}\n",
    "\n",
    "english_weekdays = {0:'Monday', 1:'Tuesday', 2:'Wednesday',3:'Thursday',4:'Friday', 5:'Saturday', 6:'Sunday'}\n",
    "\n",
    "\n",
    "pred_msr_features['month_english'] = pred_msr_features.month.apply(lambda x: english_months[x])\n",
    "pred_msr_features['weekday_english'] = pred_msr_features.weekday.apply(lambda x: english_weekdays[x])\n",
    "\n"
   ]
  },
  {
   "cell_type": "markdown",
   "metadata": {},
   "source": [
    "## Encode hours as daytimes: night, morning, afternoon, evening"
   ]
  },
  {
   "cell_type": "code",
   "execution_count": 13,
   "metadata": {},
   "outputs": [],
   "source": [
    "def get_daytime(hour):\n",
    "    if 0 <= hour < 6:\n",
    "        return 'night'\n",
    "    if 6 <= hour < 12:\n",
    "        return 'morning'\n",
    "    if 12 <= hour < 19:\n",
    "        return 'afternoon'\n",
    "    if 19 <= hour < 24:\n",
    "        return 'evening'\n",
    "\n",
    "pred_msr_features['daytime'] = pred_msr_features.hour.apply(lambda x: get_daytime(x))"
   ]
  },
  {
   "cell_type": "markdown",
   "metadata": {},
   "source": [
    "## Save features to file"
   ]
  },
  {
   "cell_type": "code",
   "execution_count": 14,
   "metadata": {},
   "outputs": [],
   "source": [
    "pred_msr_features.to_csv('2019-09-27-basel-measures-prediction-cleaned-FEAT.csv', index=None)"
   ]
  },
  {
   "cell_type": "code",
   "execution_count": null,
   "metadata": {},
   "outputs": [],
   "source": []
  },
  {
   "cell_type": "code",
   "execution_count": null,
   "metadata": {},
   "outputs": [],
   "source": []
  }
 ],
 "metadata": {
  "kernelspec": {
   "display_name": "Python 3.7.4 64-bit",
   "language": "python",
   "name": "python37464bitcee3d145547d4d1cb98dc10e6eb88d5d"
  },
  "language_info": {
   "codemirror_mode": {
    "name": "ipython",
    "version": 3
   },
   "file_extension": ".py",
   "mimetype": "text/x-python",
   "name": "python",
   "nbconvert_exporter": "python",
   "pygments_lexer": "ipython3",
   "version": "3.7.4"
  },
  "toc": {
   "colors": {
    "hover_highlight": "#DAA520",
    "running_highlight": "#FF0000",
    "selected_highlight": "#FFD700"
   },
   "moveMenuLeft": true,
   "nav_menu": {
    "height": "47.5347px",
    "width": "251.979px"
   },
   "navigate_menu": true,
   "number_sections": true,
   "sideBar": true,
   "threshold": 4,
   "toc_cell": false,
   "toc_section_display": "block",
   "toc_window_display": false,
   "widenNotebook": false
  }
 },
 "nbformat": 4,
 "nbformat_minor": 2
}
